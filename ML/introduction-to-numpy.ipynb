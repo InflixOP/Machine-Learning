{
 "cells": [
  {
   "cell_type": "code",
   "execution_count": 1,
   "id": "f10ad4e7-16b6-4163-9598-821d2c436d10",
   "metadata": {},
   "outputs": [],
   "source": [
    "import numpy as np"
   ]
  },
  {
   "cell_type": "markdown",
   "id": "e46c3416-80c6-4177-934c-aef00885ba13",
   "metadata": {},
   "source": [
    "## DataTypes & Attributes"
   ]
  },
  {
   "cell_type": "code",
   "execution_count": 2,
   "id": "dc24c432-13fd-4c0c-9a5e-7fc0bdd3d40a",
   "metadata": {},
   "outputs": [
    {
     "data": {
      "text/plain": [
       "array([1, 2, 3])"
      ]
     },
     "execution_count": 2,
     "metadata": {},
     "output_type": "execute_result"
    }
   ],
   "source": [
    "# Numpy's main datatype is ndarray\n",
    "a1=np.array([1,2,3])\n",
    "a1"
   ]
  },
  {
   "cell_type": "code",
   "execution_count": 3,
   "id": "21a576a0-d044-4b3f-a140-8026d583af8a",
   "metadata": {},
   "outputs": [
    {
     "data": {
      "text/plain": [
       "numpy.ndarray"
      ]
     },
     "execution_count": 3,
     "metadata": {},
     "output_type": "execute_result"
    }
   ],
   "source": [
    "type(a1)"
   ]
  },
  {
   "cell_type": "code",
   "execution_count": 4,
   "id": "290ab387-b2b8-4972-9951-dc14713eaa27",
   "metadata": {},
   "outputs": [],
   "source": [
    "a2=np.array([[1,2,3],[4,5,6.5]])"
   ]
  },
  {
   "cell_type": "code",
   "execution_count": 5,
   "id": "5b8a094d-2c06-450b-bb42-6c117cef929c",
   "metadata": {},
   "outputs": [],
   "source": [
    "a3=np.array([[[1,2,3],[4,5,6],[7,8,9]],[[10,11,12],[13,14,15],[16,17,18]]])"
   ]
  },
  {
   "cell_type": "code",
   "execution_count": 6,
   "id": "9bef057f-cb53-4dfd-9f62-004681c6128d",
   "metadata": {},
   "outputs": [
    {
     "data": {
      "text/plain": [
       "array([[1. , 2. , 3. ],\n",
       "       [4. , 5. , 6.5]])"
      ]
     },
     "execution_count": 6,
     "metadata": {},
     "output_type": "execute_result"
    }
   ],
   "source": [
    "a2"
   ]
  },
  {
   "cell_type": "code",
   "execution_count": 7,
   "id": "465ad488-1ead-43d2-9de0-5c5063d05f35",
   "metadata": {},
   "outputs": [
    {
     "data": {
      "text/plain": [
       "array([[[ 1,  2,  3],\n",
       "        [ 4,  5,  6],\n",
       "        [ 7,  8,  9]],\n",
       "\n",
       "       [[10, 11, 12],\n",
       "        [13, 14, 15],\n",
       "        [16, 17, 18]]])"
      ]
     },
     "execution_count": 7,
     "metadata": {},
     "output_type": "execute_result"
    }
   ],
   "source": [
    "a3"
   ]
  },
  {
   "cell_type": "code",
   "execution_count": 102,
   "id": "2bfede8d-22c7-4351-b6ac-0ae0a81d90e2",
   "metadata": {},
   "outputs": [
    {
     "data": {
      "text/plain": [
       "(3,)"
      ]
     },
     "execution_count": 102,
     "metadata": {},
     "output_type": "execute_result"
    }
   ],
   "source": [
    "a1.shape"
   ]
  },
  {
   "cell_type": "code",
   "execution_count": 9,
   "id": "396d81c1-aab1-4698-b547-2c90b82441da",
   "metadata": {},
   "outputs": [
    {
     "data": {
      "text/plain": [
       "(2, 3)"
      ]
     },
     "execution_count": 9,
     "metadata": {},
     "output_type": "execute_result"
    }
   ],
   "source": [
    "a2.shape"
   ]
  },
  {
   "cell_type": "code",
   "execution_count": 10,
   "id": "775642fb-05bf-4a22-86fe-f284c8991c6f",
   "metadata": {},
   "outputs": [
    {
     "data": {
      "text/plain": [
       "(2, 3, 3)"
      ]
     },
     "execution_count": 10,
     "metadata": {},
     "output_type": "execute_result"
    }
   ],
   "source": [
    "a3.shape"
   ]
  },
  {
   "cell_type": "code",
   "execution_count": 11,
   "id": "136f73cd-4dfc-43b4-84dd-ca9978bdbb8c",
   "metadata": {},
   "outputs": [
    {
     "data": {
      "text/plain": [
       "(1, 2, 3)"
      ]
     },
     "execution_count": 11,
     "metadata": {},
     "output_type": "execute_result"
    }
   ],
   "source": [
    "a1.ndim,a2.ndim,a3.ndim"
   ]
  },
  {
   "cell_type": "code",
   "execution_count": 12,
   "id": "f6aedfb4-3433-41bc-a1f9-8b3726f2fc94",
   "metadata": {},
   "outputs": [
    {
     "data": {
      "text/plain": [
       "(dtype('int32'), dtype('float64'))"
      ]
     },
     "execution_count": 12,
     "metadata": {},
     "output_type": "execute_result"
    }
   ],
   "source": [
    "a1.dtype,a2.dtype"
   ]
  },
  {
   "cell_type": "code",
   "execution_count": 13,
   "id": "39c7c9ee-f971-441c-9218-ab9405a636ae",
   "metadata": {},
   "outputs": [
    {
     "data": {
      "text/plain": [
       "(3, 6, 18)"
      ]
     },
     "execution_count": 13,
     "metadata": {},
     "output_type": "execute_result"
    }
   ],
   "source": [
    "a1.size,a2.size,a3.size"
   ]
  },
  {
   "cell_type": "code",
   "execution_count": 17,
   "id": "fdc2d9ff-9e25-4f11-83a8-e90e07a22212",
   "metadata": {},
   "outputs": [
    {
     "data": {
      "text/html": [
       "<div>\n",
       "<style scoped>\n",
       "    .dataframe tbody tr th:only-of-type {\n",
       "        vertical-align: middle;\n",
       "    }\n",
       "\n",
       "    .dataframe tbody tr th {\n",
       "        vertical-align: top;\n",
       "    }\n",
       "\n",
       "    .dataframe thead th {\n",
       "        text-align: right;\n",
       "    }\n",
       "</style>\n",
       "<table border=\"1\" class=\"dataframe\">\n",
       "  <thead>\n",
       "    <tr style=\"text-align: right;\">\n",
       "      <th></th>\n",
       "      <th>0</th>\n",
       "      <th>1</th>\n",
       "      <th>2</th>\n",
       "    </tr>\n",
       "  </thead>\n",
       "  <tbody>\n",
       "    <tr>\n",
       "      <th>0</th>\n",
       "      <td>1.0</td>\n",
       "      <td>2.0</td>\n",
       "      <td>3.0</td>\n",
       "    </tr>\n",
       "    <tr>\n",
       "      <th>1</th>\n",
       "      <td>4.0</td>\n",
       "      <td>5.0</td>\n",
       "      <td>6.5</td>\n",
       "    </tr>\n",
       "  </tbody>\n",
       "</table>\n",
       "</div>"
      ],
      "text/plain": [
       "     0    1    2\n",
       "0  1.0  2.0  3.0\n",
       "1  4.0  5.0  6.5"
      ]
     },
     "execution_count": 17,
     "metadata": {},
     "output_type": "execute_result"
    }
   ],
   "source": [
    "#Create a Dataframe from numpy array\n",
    "import pandas as pd\n",
    "df=pd.DataFrame(a2\n",
    "               )\n",
    "df"
   ]
  },
  {
   "cell_type": "code",
   "execution_count": 18,
   "id": "68a6cfc6-509e-4fac-91b0-2d22ab872dc6",
   "metadata": {},
   "outputs": [
    {
     "data": {
      "text/plain": [
       "array([[1., 1., 1.],\n",
       "       [1., 1., 1.]])"
      ]
     },
     "execution_count": 18,
     "metadata": {},
     "output_type": "execute_result"
    }
   ],
   "source": [
    "ones=np.ones((2,3))\n",
    "ones"
   ]
  },
  {
   "cell_type": "code",
   "execution_count": 19,
   "id": "24509e80-c1bf-4a7a-8b02-6290f7bb8142",
   "metadata": {},
   "outputs": [
    {
     "data": {
      "text/plain": [
       "dtype('float64')"
      ]
     },
     "execution_count": 19,
     "metadata": {},
     "output_type": "execute_result"
    }
   ],
   "source": [
    "ones.dtype"
   ]
  },
  {
   "cell_type": "code",
   "execution_count": 20,
   "id": "dce00f5c-95af-4c3b-af63-d513d0a141d8",
   "metadata": {},
   "outputs": [],
   "source": [
    "zeros=np.zeros((2,3))"
   ]
  },
  {
   "cell_type": "code",
   "execution_count": 21,
   "id": "4642ec85-806d-4f1f-9842-da3d7381f599",
   "metadata": {},
   "outputs": [
    {
     "data": {
      "text/plain": [
       "array([[0., 0., 0.],\n",
       "       [0., 0., 0.]])"
      ]
     },
     "execution_count": 21,
     "metadata": {},
     "output_type": "execute_result"
    }
   ],
   "source": [
    "zeros"
   ]
  },
  {
   "cell_type": "code",
   "execution_count": 103,
   "id": "287a8f1c-0cde-4020-bf12-0cc03b0a80f1",
   "metadata": {},
   "outputs": [
    {
     "data": {
      "text/plain": [
       "array([ 0,  2,  4,  6,  8, 10])"
      ]
     },
     "execution_count": 103,
     "metadata": {},
     "output_type": "execute_result"
    }
   ],
   "source": [
    "range_array=np.arange(0,11,2)\n",
    "range_array"
   ]
  },
  {
   "cell_type": "code",
   "execution_count": 109,
   "id": "1eaaf7fe-fd0d-4468-a756-337f7ad87ece",
   "metadata": {},
   "outputs": [],
   "source": [
    "random_array=np.random.randint(0,11,size=(3,5))"
   ]
  },
  {
   "cell_type": "code",
   "execution_count": 110,
   "id": "1219a8ae-a854-49b0-b863-2ac2f73ed417",
   "metadata": {},
   "outputs": [
    {
     "data": {
      "text/plain": [
       "array([[ 6,  8,  4,  1,  4],\n",
       "       [ 9, 10, 10,  8,  1],\n",
       "       [ 1,  7,  9,  9,  3]])"
      ]
     },
     "execution_count": 110,
     "metadata": {},
     "output_type": "execute_result"
    }
   ],
   "source": [
    "random_array"
   ]
  },
  {
   "cell_type": "code",
   "execution_count": 104,
   "id": "ad268f82-84b2-4e85-af02-78b2ce9922a9",
   "metadata": {},
   "outputs": [
    {
     "data": {
      "text/plain": [
       "array([[0.97861834, 0.79915856, 0.46147936],\n",
       "       [0.78052918, 0.11827443, 0.63992102]])"
      ]
     },
     "execution_count": 104,
     "metadata": {},
     "output_type": "execute_result"
    }
   ],
   "source": [
    "random_array_2=np.random.random((2,3))\n",
    "random_array_2"
   ]
  },
  {
   "cell_type": "code",
   "execution_count": 112,
   "id": "bffcc756-7272-4a4e-8ac8-22a23d78552e",
   "metadata": {},
   "outputs": [
    {
     "data": {
      "text/plain": [
       "array([[ 5,  0,  3],\n",
       "       [ 3,  7,  9],\n",
       "       [ 3,  5,  2],\n",
       "       [ 4,  7,  6],\n",
       "       [ 8,  8, 10]])"
      ]
     },
     "execution_count": 112,
     "metadata": {},
     "output_type": "execute_result"
    }
   ],
   "source": [
    "# Pseudo-random number\n",
    "np.random.seed(seed=0)\n",
    "random_array_4=np.random.randint(11,size=(5,3))\n",
    "random_array_4"
   ]
  },
  {
   "cell_type": "markdown",
   "id": "073bfce9-ef65-4ed5-ac9b-1f9d3f01aa9e",
   "metadata": {},
   "source": [
    "## Viewing arrays and matrices"
   ]
  },
  {
   "cell_type": "code",
   "execution_count": 113,
   "id": "5b405725-c86c-49f4-a12e-00e150bcfccf",
   "metadata": {},
   "outputs": [
    {
     "data": {
      "text/plain": [
       "array([ 0,  2,  3,  4,  5,  6,  7,  8,  9, 10])"
      ]
     },
     "execution_count": 113,
     "metadata": {},
     "output_type": "execute_result"
    }
   ],
   "source": [
    "np.unique(random_array_4)"
   ]
  },
  {
   "cell_type": "code",
   "execution_count": 39,
   "id": "6bca5847-ecd5-4be2-9814-b6416c68638c",
   "metadata": {},
   "outputs": [
    {
     "data": {
      "text/plain": [
       "(array([1, 2, 3]),\n",
       " array([[1. , 2. , 3. ],\n",
       "        [4. , 5. , 6.5]]),\n",
       " array([[[ 1,  2,  3],\n",
       "         [ 4,  5,  6],\n",
       "         [ 7,  8,  9]],\n",
       " \n",
       "        [[10, 11, 12],\n",
       "         [13, 14, 15],\n",
       "         [16, 17, 18]]]))"
      ]
     },
     "execution_count": 39,
     "metadata": {},
     "output_type": "execute_result"
    }
   ],
   "source": [
    "a1,a2,a3"
   ]
  },
  {
   "cell_type": "code",
   "execution_count": 40,
   "id": "45b052f1-404b-4791-b7f2-6ecace78334c",
   "metadata": {},
   "outputs": [
    {
     "data": {
      "text/plain": [
       "1"
      ]
     },
     "execution_count": 40,
     "metadata": {},
     "output_type": "execute_result"
    }
   ],
   "source": [
    "a1[0]"
   ]
  },
  {
   "cell_type": "code",
   "execution_count": 41,
   "id": "196e27a9-4a08-4975-b82d-d81e4512d57a",
   "metadata": {},
   "outputs": [
    {
     "data": {
      "text/plain": [
       "1.0"
      ]
     },
     "execution_count": 41,
     "metadata": {},
     "output_type": "execute_result"
    }
   ],
   "source": [
    "a2[0][0]"
   ]
  },
  {
   "cell_type": "code",
   "execution_count": 42,
   "id": "7c29cc3e-e6fa-4522-95e0-5e4fa5deea3d",
   "metadata": {},
   "outputs": [
    {
     "data": {
      "text/plain": [
       "array([[1, 2, 3],\n",
       "       [4, 5, 6],\n",
       "       [7, 8, 9]])"
      ]
     },
     "execution_count": 42,
     "metadata": {},
     "output_type": "execute_result"
    }
   ],
   "source": [
    "a3[0]"
   ]
  },
  {
   "cell_type": "code",
   "execution_count": 43,
   "id": "4f55bcb3-887b-436c-8a8a-58efa3c62b9e",
   "metadata": {},
   "outputs": [
    {
     "data": {
      "text/plain": [
       "array([1, 2, 3])"
      ]
     },
     "execution_count": 43,
     "metadata": {},
     "output_type": "execute_result"
    }
   ],
   "source": [
    "a3[0][0]"
   ]
  },
  {
   "cell_type": "code",
   "execution_count": 44,
   "id": "25413333-6ed3-4f2e-98eb-4546d8d812f8",
   "metadata": {},
   "outputs": [
    {
     "data": {
      "text/plain": [
       "2"
      ]
     },
     "execution_count": 44,
     "metadata": {},
     "output_type": "execute_result"
    }
   ],
   "source": [
    "a3[0][0][1]"
   ]
  },
  {
   "cell_type": "code",
   "execution_count": 46,
   "id": "02a5e072-9c87-4b5b-a22b-08507eee694d",
   "metadata": {},
   "outputs": [
    {
     "data": {
      "text/plain": [
       "array([[[1, 2],\n",
       "        [4, 5]]])"
      ]
     },
     "execution_count": 46,
     "metadata": {},
     "output_type": "execute_result"
    }
   ],
   "source": [
    "a3[:1,:2,:2]"
   ]
  },
  {
   "cell_type": "code",
   "execution_count": 47,
   "id": "93a33443-e3a2-4a23-aa39-02f6b49713d7",
   "metadata": {},
   "outputs": [],
   "source": [
    "a4=np.random.randint(10,size=(2,3,4,5))"
   ]
  },
  {
   "cell_type": "code",
   "execution_count": 48,
   "id": "b38ac94b-5430-45a5-8bc0-d7d5a098cffa",
   "metadata": {},
   "outputs": [
    {
     "data": {
      "text/plain": [
       "array([[[[6, 7, 7, 8, 1],\n",
       "         [5, 9, 8, 9, 4],\n",
       "         [3, 0, 3, 5, 0],\n",
       "         [2, 3, 8, 1, 3]],\n",
       "\n",
       "        [[3, 3, 7, 0, 1],\n",
       "         [9, 9, 0, 4, 7],\n",
       "         [3, 2, 7, 2, 0],\n",
       "         [0, 4, 5, 5, 6]],\n",
       "\n",
       "        [[8, 4, 1, 4, 9],\n",
       "         [8, 1, 1, 7, 9],\n",
       "         [9, 3, 6, 7, 2],\n",
       "         [0, 3, 5, 9, 4]]],\n",
       "\n",
       "\n",
       "       [[[4, 6, 4, 4, 3],\n",
       "         [4, 4, 8, 4, 3],\n",
       "         [7, 5, 5, 0, 1],\n",
       "         [5, 9, 3, 0, 5]],\n",
       "\n",
       "        [[0, 1, 2, 4, 2],\n",
       "         [0, 3, 2, 0, 7],\n",
       "         [5, 9, 0, 2, 7],\n",
       "         [2, 9, 2, 3, 3]],\n",
       "\n",
       "        [[2, 3, 4, 1, 2],\n",
       "         [9, 1, 4, 6, 8],\n",
       "         [2, 3, 0, 0, 6],\n",
       "         [0, 6, 3, 3, 8]]]])"
      ]
     },
     "execution_count": 48,
     "metadata": {},
     "output_type": "execute_result"
    }
   ],
   "source": [
    "a4"
   ]
  },
  {
   "cell_type": "code",
   "execution_count": 114,
   "id": "8e689220-960b-466a-9f2f-22a84f3d9848",
   "metadata": {},
   "outputs": [
    {
     "data": {
      "text/plain": [
       "array([[[[0, 1, 2, 4, 2]]]])"
      ]
     },
     "execution_count": 114,
     "metadata": {},
     "output_type": "execute_result"
    }
   ],
   "source": [
    "a4[1:,1:2,:1,:]"
   ]
  },
  {
   "cell_type": "markdown",
   "id": "ee38fcc8-ff1c-4cc5-b82e-7772c42ae3ac",
   "metadata": {},
   "source": [
    "## 4. Manipulating and comparing arrays"
   ]
  },
  {
   "cell_type": "markdown",
   "id": "76510f2f-5755-4ac3-abfe-8fcebf942a57",
   "metadata": {},
   "source": [
    "### Arithmetic "
   ]
  },
  {
   "cell_type": "code",
   "execution_count": 51,
   "id": "312324c5-e6a7-4f45-8e45-74ea4cb633ea",
   "metadata": {},
   "outputs": [
    {
     "data": {
      "text/plain": [
       "array([1, 2, 3])"
      ]
     },
     "execution_count": 51,
     "metadata": {},
     "output_type": "execute_result"
    }
   ],
   "source": [
    "a1"
   ]
  },
  {
   "cell_type": "code",
   "execution_count": 52,
   "id": "11b4063a-b09c-4686-9fc3-ea95ccfcc093",
   "metadata": {},
   "outputs": [
    {
     "data": {
      "text/plain": [
       "array([[1., 1., 1.],\n",
       "       [1., 1., 1.]])"
      ]
     },
     "execution_count": 52,
     "metadata": {},
     "output_type": "execute_result"
    }
   ],
   "source": [
    "ones"
   ]
  },
  {
   "cell_type": "code",
   "execution_count": 53,
   "id": "80e16696-4e0e-48c4-95f3-ae51707efe06",
   "metadata": {},
   "outputs": [
    {
     "data": {
      "text/plain": [
       "array([[2., 3., 4.],\n",
       "       [2., 3., 4.]])"
      ]
     },
     "execution_count": 53,
     "metadata": {},
     "output_type": "execute_result"
    }
   ],
   "source": [
    "a1+ones"
   ]
  },
  {
   "cell_type": "code",
   "execution_count": 54,
   "id": "0541aa1e-95bf-4072-8234-05afe04a7e6f",
   "metadata": {},
   "outputs": [
    {
     "data": {
      "text/plain": [
       "array([[0., 1., 2.],\n",
       "       [0., 1., 2.]])"
      ]
     },
     "execution_count": 54,
     "metadata": {},
     "output_type": "execute_result"
    }
   ],
   "source": [
    "a1-ones"
   ]
  },
  {
   "cell_type": "code",
   "execution_count": 55,
   "id": "1d6a4742-3687-4e3e-95f9-304e0e46e72f",
   "metadata": {},
   "outputs": [
    {
     "data": {
      "text/plain": [
       "array([[1., 2., 3.],\n",
       "       [1., 2., 3.]])"
      ]
     },
     "execution_count": 55,
     "metadata": {},
     "output_type": "execute_result"
    }
   ],
   "source": [
    "a1 * ones"
   ]
  },
  {
   "cell_type": "code",
   "execution_count": 56,
   "id": "935236cd-a500-485e-bcc8-613f5ffc6948",
   "metadata": {},
   "outputs": [
    {
     "data": {
      "text/plain": [
       "array([[1. , 2. , 3. ],\n",
       "       [4. , 5. , 6.5]])"
      ]
     },
     "execution_count": 56,
     "metadata": {},
     "output_type": "execute_result"
    }
   ],
   "source": [
    "a2"
   ]
  },
  {
   "cell_type": "code",
   "execution_count": 59,
   "id": "1e9ae241-1597-4236-be37-82b0861f8587",
   "metadata": {},
   "outputs": [
    {
     "data": {
      "text/plain": [
       "array([[1., 1., 1.],\n",
       "       [4., 2., 2.]])"
      ]
     },
     "execution_count": 59,
     "metadata": {},
     "output_type": "execute_result"
    }
   ],
   "source": [
    "#floors down the decimal part(rounds off)\n",
    "a2//a1"
   ]
  },
  {
   "cell_type": "code",
   "execution_count": 58,
   "id": "f261eacc-7aa0-472c-8349-3f06324fc607",
   "metadata": {},
   "outputs": [
    {
     "data": {
      "text/plain": [
       "array([[ 1.  ,  4.  ,  9.  ],\n",
       "       [16.  , 25.  , 42.25]])"
      ]
     },
     "execution_count": 58,
     "metadata": {},
     "output_type": "execute_result"
    }
   ],
   "source": [
    "a2**2"
   ]
  },
  {
   "cell_type": "code",
   "execution_count": 60,
   "id": "2dee7d80-e50a-47c0-829a-69ae52f6462f",
   "metadata": {},
   "outputs": [
    {
     "data": {
      "text/plain": [
       "array([[2., 3., 4.],\n",
       "       [2., 3., 4.]])"
      ]
     },
     "execution_count": 60,
     "metadata": {},
     "output_type": "execute_result"
    }
   ],
   "source": [
    "np.add(a1,ones)"
   ]
  },
  {
   "cell_type": "markdown",
   "id": "36309c84-e245-4f9d-8d9f-2028f0a4d59f",
   "metadata": {},
   "source": [
    "### Aggregation"
   ]
  },
  {
   "cell_type": "markdown",
   "id": "a1857d93-9671-46cb-9bd0-9aa26a01f5fa",
   "metadata": {},
   "source": [
    "Aggregation=performing number of operations on a number of things"
   ]
  },
  {
   "cell_type": "code",
   "execution_count": 61,
   "id": "523ac68a-2272-4f88-9786-7811b3fc9d4a",
   "metadata": {},
   "outputs": [
    {
     "data": {
      "text/plain": [
       "list"
      ]
     },
     "execution_count": 61,
     "metadata": {},
     "output_type": "execute_result"
    }
   ],
   "source": [
    "listy_list=[1,2,3]\n",
    "type(listy_list)"
   ]
  },
  {
   "cell_type": "code",
   "execution_count": 62,
   "id": "647a4375-5ad7-4644-9b20-2e25664a9e67",
   "metadata": {},
   "outputs": [
    {
     "data": {
      "text/plain": [
       "6"
      ]
     },
     "execution_count": 62,
     "metadata": {},
     "output_type": "execute_result"
    }
   ],
   "source": [
    "sum(listy_list)"
   ]
  },
  {
   "cell_type": "code",
   "execution_count": 63,
   "id": "3f05aae4-2a1c-4feb-8476-91a18264697a",
   "metadata": {},
   "outputs": [
    {
     "data": {
      "text/plain": [
       "numpy.ndarray"
      ]
     },
     "execution_count": 63,
     "metadata": {},
     "output_type": "execute_result"
    }
   ],
   "source": [
    "type(a1)"
   ]
  },
  {
   "cell_type": "code",
   "execution_count": 64,
   "id": "65a3fc7b-966a-4acd-84d9-fcb6f7a2b766",
   "metadata": {},
   "outputs": [
    {
     "data": {
      "text/plain": [
       "6"
      ]
     },
     "execution_count": 64,
     "metadata": {},
     "output_type": "execute_result"
    }
   ],
   "source": [
    "sum(a1)"
   ]
  },
  {
   "cell_type": "code",
   "execution_count": 65,
   "id": "0a6aa7c5-8026-483a-a5bc-aaac20a85dc5",
   "metadata": {},
   "outputs": [
    {
     "data": {
      "text/plain": [
       "6"
      ]
     },
     "execution_count": 65,
     "metadata": {},
     "output_type": "execute_result"
    }
   ],
   "source": [
    "np.sum(a1)"
   ]
  },
  {
   "cell_type": "code",
   "execution_count": 66,
   "id": "14ffeaf8-e8d0-4cc5-a70c-81728f46bcf3",
   "metadata": {},
   "outputs": [],
   "source": [
    "massive_array=np.random.random(10000)"
   ]
  },
  {
   "cell_type": "code",
   "execution_count": 68,
   "id": "4bb4ed07-8976-4a20-9b78-94d621c14490",
   "metadata": {},
   "outputs": [
    {
     "data": {
      "text/plain": [
       "array([0.16494046, 0.36980809, 0.14644176, 0.56961841, 0.70373728,\n",
       "       0.28847644, 0.43328806, 0.75610669, 0.39609828, 0.89603839])"
      ]
     },
     "execution_count": 68,
     "metadata": {},
     "output_type": "execute_result"
    }
   ],
   "source": [
    "massive_array[:10]"
   ]
  },
  {
   "cell_type": "code",
   "execution_count": 69,
   "id": "9bfaa917-3d7e-4908-bf54-aaa74f84fd56",
   "metadata": {},
   "outputs": [
    {
     "name": "stdout",
     "output_type": "stream",
     "text": [
      "845 µs ± 90.2 µs per loop (mean ± std. dev. of 7 runs, 1,000 loops each)\n",
      "8.9 µs ± 583 ns per loop (mean ± std. dev. of 7 runs, 100,000 loops each)\n"
     ]
    }
   ],
   "source": [
    "%timeit sum(massive_array)\n",
    "%timeit np.sum(massive_array)"
   ]
  },
  {
   "cell_type": "code",
   "execution_count": 70,
   "id": "c8574c30-4173-42fd-a9cf-6a66e99d3ee4",
   "metadata": {},
   "outputs": [
    {
     "data": {
      "text/plain": [
       "array([[1. , 2. , 3. ],\n",
       "       [4. , 5. , 6.5]])"
      ]
     },
     "execution_count": 70,
     "metadata": {},
     "output_type": "execute_result"
    }
   ],
   "source": [
    "a2"
   ]
  },
  {
   "cell_type": "code",
   "execution_count": 71,
   "id": "e3a692db-f407-4400-9385-42869feb5dcb",
   "metadata": {},
   "outputs": [
    {
     "data": {
      "text/plain": [
       "3.5833333333333335"
      ]
     },
     "execution_count": 71,
     "metadata": {},
     "output_type": "execute_result"
    }
   ],
   "source": [
    "np.mean(a2)"
   ]
  },
  {
   "cell_type": "code",
   "execution_count": 72,
   "id": "d237fee6-0dd0-4f27-996b-2bff51978a4d",
   "metadata": {},
   "outputs": [
    {
     "data": {
      "text/plain": [
       "6.5"
      ]
     },
     "execution_count": 72,
     "metadata": {},
     "output_type": "execute_result"
    }
   ],
   "source": [
    "np.max(a2)"
   ]
  },
  {
   "cell_type": "code",
   "execution_count": 73,
   "id": "5074d342-b192-44b7-b939-8e7929260890",
   "metadata": {},
   "outputs": [
    {
     "data": {
      "text/plain": [
       "1.8352262954621035"
      ]
     },
     "execution_count": 73,
     "metadata": {},
     "output_type": "execute_result"
    }
   ],
   "source": [
    "np.std(a2)"
   ]
  },
  {
   "cell_type": "code",
   "execution_count": 74,
   "id": "684a0095-36a8-41af-a52e-db85ea26eaeb",
   "metadata": {},
   "outputs": [
    {
     "data": {
      "text/plain": [
       "3.368055555555556"
      ]
     },
     "execution_count": 74,
     "metadata": {},
     "output_type": "execute_result"
    }
   ],
   "source": [
    "np.var(a2)"
   ]
  },
  {
   "cell_type": "markdown",
   "id": "66692c8e-860d-4996-8b0a-68ae14cc22e2",
   "metadata": {},
   "source": [
    "## Reshaping and transposing"
   ]
  },
  {
   "cell_type": "code",
   "execution_count": 75,
   "id": "dbe04313-c912-4f50-b9c3-c1d8a1b01d26",
   "metadata": {},
   "outputs": [
    {
     "data": {
      "text/plain": [
       "array([[1. , 2. , 3. ],\n",
       "       [4. , 5. , 6.5]])"
      ]
     },
     "execution_count": 75,
     "metadata": {},
     "output_type": "execute_result"
    }
   ],
   "source": [
    "a2\n"
   ]
  },
  {
   "cell_type": "code",
   "execution_count": 77,
   "id": "3029b49e-6358-4002-b9b2-a08f407fbf0b",
   "metadata": {},
   "outputs": [
    {
     "data": {
      "text/plain": [
       "(2, 3)"
      ]
     },
     "execution_count": 77,
     "metadata": {},
     "output_type": "execute_result"
    }
   ],
   "source": [
    "a2.shape"
   ]
  },
  {
   "cell_type": "code",
   "execution_count": 118,
   "id": "66fe9228-1127-4b14-b528-770338400a65",
   "metadata": {},
   "outputs": [
    {
     "data": {
      "text/plain": [
       "array([[[1. ],\n",
       "        [2. ],\n",
       "        [3. ]],\n",
       "\n",
       "       [[4. ],\n",
       "        [5. ],\n",
       "        [6.5]]])"
      ]
     },
     "execution_count": 118,
     "metadata": {},
     "output_type": "execute_result"
    }
   ],
   "source": [
    "a2_reshape=a2.reshape(2,3,1)\n",
    "a2_reshape"
   ]
  },
  {
   "cell_type": "code",
   "execution_count": 89,
   "id": "6b569b48-f8ab-4ce9-bfb7-f2799f46ab4b",
   "metadata": {},
   "outputs": [
    {
     "data": {
      "text/plain": [
       "array([[[  1. ,   2. ,   3. ],\n",
       "        [  8. ,  10. ,  12. ],\n",
       "        [ 21. ,  24. ,  27. ]],\n",
       "\n",
       "       [[ 40. ,  44. ,  48. ],\n",
       "        [ 65. ,  70. ,  75. ],\n",
       "        [104. , 110.5, 117. ]]])"
      ]
     },
     "execution_count": 89,
     "metadata": {},
     "output_type": "execute_result"
    }
   ],
   "source": [
    "a2_reshape*a3"
   ]
  },
  {
   "cell_type": "code",
   "execution_count": 91,
   "id": "7a1de5b5-30fe-4a7f-8d91-e90b1a250f7f",
   "metadata": {},
   "outputs": [
    {
     "data": {
      "text/plain": [
       "array([[1. , 4. ],\n",
       "       [2. , 5. ],\n",
       "       [3. , 6.5]])"
      ]
     },
     "execution_count": 91,
     "metadata": {},
     "output_type": "execute_result"
    }
   ],
   "source": [
    "#Transpose- switches the axis\n",
    "a2.T"
   ]
  },
  {
   "cell_type": "code",
   "execution_count": 92,
   "id": "0aef6b5a-333a-432c-bb54-10ed869c3c55",
   "metadata": {},
   "outputs": [
    {
     "data": {
      "text/plain": [
       "(3, 2)"
      ]
     },
     "execution_count": 92,
     "metadata": {},
     "output_type": "execute_result"
    }
   ],
   "source": [
    "a2.T.shape"
   ]
  },
  {
   "cell_type": "code",
   "execution_count": 93,
   "id": "31fde065-56ee-496f-8beb-ac38b994df0b",
   "metadata": {},
   "outputs": [
    {
     "data": {
      "text/plain": [
       "array([[5, 0, 3],\n",
       "       [3, 7, 9],\n",
       "       [3, 5, 2],\n",
       "       [4, 7, 6],\n",
       "       [8, 8, 1]])"
      ]
     },
     "execution_count": 93,
     "metadata": {},
     "output_type": "execute_result"
    }
   ],
   "source": [
    "np.random.seed(0)\n",
    "mat1=np.random.randint(10,size=(5,3))\n",
    "mat2=np.random.randint(10,size=(5,3))\n",
    "mat1"
   ]
  },
  {
   "cell_type": "code",
   "execution_count": 94,
   "id": "256c656a-e90b-44fe-b32a-15771e8045bb",
   "metadata": {},
   "outputs": [
    {
     "data": {
      "text/plain": [
       "array([[6, 7, 7],\n",
       "       [8, 1, 5],\n",
       "       [9, 8, 9],\n",
       "       [4, 3, 0],\n",
       "       [3, 5, 0]])"
      ]
     },
     "execution_count": 94,
     "metadata": {},
     "output_type": "execute_result"
    }
   ],
   "source": [
    "mat2"
   ]
  },
  {
   "cell_type": "code",
   "execution_count": 96,
   "id": "9507f774-be19-4014-b5fc-3f39d8ebdc50",
   "metadata": {},
   "outputs": [
    {
     "data": {
      "text/plain": [
       "array([[30,  0, 21],\n",
       "       [24,  7, 45],\n",
       "       [27, 40, 18],\n",
       "       [16, 21,  0],\n",
       "       [24, 40,  0]])"
      ]
     },
     "execution_count": 96,
     "metadata": {},
     "output_type": "execute_result"
    }
   ],
   "source": [
    "#element wise multiplication\n",
    "mat1*mat2"
   ]
  },
  {
   "cell_type": "code",
   "execution_count": 97,
   "id": "01a0966d-cb89-41e0-9b82-9e67e6d5eac9",
   "metadata": {},
   "outputs": [],
   "source": [
    "mat1T=mat1.T"
   ]
  },
  {
   "cell_type": "code",
   "execution_count": 101,
   "id": "a72160fe-db58-4191-994c-d6978a20e5e4",
   "metadata": {},
   "outputs": [
    {
     "data": {
      "text/plain": [
       "array([[ 51, 130,  67, 115, 111],\n",
       "       [ 55,  76,  39,  69,  77],\n",
       "       [ 72, 164,  85, 146, 145],\n",
       "       [ 20,  33,  27,  37,  56],\n",
       "       [ 15,  44,  34,  47,  64]])"
      ]
     },
     "execution_count": 101,
     "metadata": {},
     "output_type": "execute_result"
    }
   ],
   "source": [
    "#dot product\n",
    "np.dot(mat2,mat1T)"
   ]
  },
  {
   "cell_type": "markdown",
   "id": "7d52c05d-8ff5-4158-bed5-d0d1b69fa6be",
   "metadata": {},
   "source": [
    "## Sorting arrays"
   ]
  },
  {
   "cell_type": "code",
   "execution_count": 120,
   "id": "afdd4a5e-a166-4b37-932b-adf0851f560f",
   "metadata": {},
   "outputs": [
    {
     "data": {
      "text/plain": [
       "array([[ 6,  8,  4,  1,  4],\n",
       "       [ 9, 10, 10,  8,  1],\n",
       "       [ 1,  7,  9,  9,  3]])"
      ]
     },
     "execution_count": 120,
     "metadata": {},
     "output_type": "execute_result"
    }
   ],
   "source": [
    "random_array"
   ]
  },
  {
   "cell_type": "code",
   "execution_count": 121,
   "id": "1dce25a7-832d-4895-9724-5a7465f87b0d",
   "metadata": {},
   "outputs": [
    {
     "data": {
      "text/plain": [
       "array([[ 1,  4,  4,  6,  8],\n",
       "       [ 1,  8,  9, 10, 10],\n",
       "       [ 1,  3,  7,  9,  9]])"
      ]
     },
     "execution_count": 121,
     "metadata": {},
     "output_type": "execute_result"
    }
   ],
   "source": [
    "np.sort(random_array)"
   ]
  },
  {
   "cell_type": "code",
   "execution_count": 122,
   "id": "a900c241-681f-4a58-8bbf-c7c6f20293df",
   "metadata": {},
   "outputs": [
    {
     "data": {
      "text/plain": [
       "array([[3, 2, 4, 0, 1],\n",
       "       [4, 3, 0, 1, 2],\n",
       "       [0, 4, 1, 2, 3]], dtype=int64)"
      ]
     },
     "execution_count": 122,
     "metadata": {},
     "output_type": "execute_result"
    }
   ],
   "source": [
    "np.argsort(random_array)"
   ]
  },
  {
   "cell_type": "code",
   "execution_count": 124,
   "id": "eb71d489-21cc-48c5-b7e6-92e5bfce0cd6",
   "metadata": {},
   "outputs": [
    {
     "data": {
      "text/plain": [
       "3"
      ]
     },
     "execution_count": 124,
     "metadata": {},
     "output_type": "execute_result"
    }
   ],
   "source": [
    "np.argmin(random_array)"
   ]
  },
  {
   "cell_type": "markdown",
   "id": "550b53d8-13c0-4b23-aa7d-94770ce3bfb9",
   "metadata": {},
   "source": [
    "## Practical Example"
   ]
  },
  {
   "cell_type": "code",
   "execution_count": null,
   "id": "ea3f60ac-4aa0-42b6-83f0-dfc90463dbc5",
   "metadata": {},
   "outputs": [],
   "source": [
    "from matplotlib.image import imread\n",
    "panda=imread(\"panda.png\")\n",
    "print(type(panda))\n"
   ]
  },
  {
   "cell_type": "markdown",
   "id": "1efbb789-4fdd-42e6-9ffa-6b25611a0f05",
   "metadata": {},
   "source": [
    "<img src=\"panda.png\"/>"
   ]
  },
  {
   "cell_type": "code",
   "execution_count": 129,
   "id": "9144f07d-f2ad-498d-854e-6e1f7ea79306",
   "metadata": {},
   "outputs": [
    {
     "data": {
      "text/plain": [
       "array([[[0.05490196, 0.10588235, 0.06666667],\n",
       "        [0.05490196, 0.10588235, 0.06666667],\n",
       "        [0.05490196, 0.10588235, 0.06666667],\n",
       "        ...,\n",
       "        [0.16470589, 0.12941177, 0.09411765],\n",
       "        [0.16470589, 0.12941177, 0.09411765],\n",
       "        [0.16470589, 0.12941177, 0.09411765]]], dtype=float32)"
      ]
     },
     "execution_count": 129,
     "metadata": {},
     "output_type": "execute_result"
    }
   ],
   "source": [
    "panda[:1]\n"
   ]
  },
  {
   "cell_type": "code",
   "execution_count": 134,
   "id": "63874cf9-25bd-4fab-a81b-5f41f3d4f32e",
   "metadata": {},
   "outputs": [],
   "source": [
    "car=imread(\"car-photo.png\")"
   ]
  },
  {
   "cell_type": "code",
   "execution_count": 135,
   "id": "58490004-fc8a-498f-80ce-19d73e1b1330",
   "metadata": {},
   "outputs": [
    {
     "data": {
      "text/plain": [
       "array([[[0.5019608 , 0.50980395, 0.4862745 , 1.        ],\n",
       "        [0.3372549 , 0.34509805, 0.30588236, 1.        ],\n",
       "        [0.20392157, 0.21568628, 0.14901961, 1.        ],\n",
       "        ...,\n",
       "        [0.64705884, 0.7058824 , 0.54901963, 1.        ],\n",
       "        [0.59607846, 0.63529414, 0.45882353, 1.        ],\n",
       "        [0.44705883, 0.47058824, 0.3372549 , 1.        ]],\n",
       "\n",
       "       [[0.44313726, 0.43529412, 0.40392157, 1.        ],\n",
       "        [0.3137255 , 0.31764707, 0.27450982, 1.        ],\n",
       "        [0.2       , 0.21176471, 0.14117648, 1.        ],\n",
       "        ...,\n",
       "        [0.5058824 , 0.5372549 , 0.4117647 , 1.        ],\n",
       "        [0.49803922, 0.52156866, 0.39607844, 1.        ],\n",
       "        [0.4       , 0.42745098, 0.34117648, 1.        ]],\n",
       "\n",
       "       [[0.39607844, 0.38039216, 0.34117648, 1.        ],\n",
       "        [0.31764707, 0.3137255 , 0.27450982, 1.        ],\n",
       "        [0.28627452, 0.29411766, 0.24705882, 1.        ],\n",
       "        ...,\n",
       "        [0.44705883, 0.45882353, 0.32156864, 1.        ],\n",
       "        [0.45882353, 0.48235294, 0.3529412 , 1.        ],\n",
       "        [0.4509804 , 0.49019608, 0.38039216, 1.        ]],\n",
       "\n",
       "       ...,\n",
       "\n",
       "       [[0.47058824, 0.57254905, 0.6313726 , 1.        ],\n",
       "        [0.4392157 , 0.53333336, 0.5882353 , 1.        ],\n",
       "        [0.48235294, 0.5803922 , 0.6392157 , 1.        ],\n",
       "        ...,\n",
       "        [0.6156863 , 0.7529412 , 0.827451  , 1.        ],\n",
       "        [0.61960787, 0.7607843 , 0.83137256, 1.        ],\n",
       "        [0.5921569 , 0.73333335, 0.7921569 , 1.        ]],\n",
       "\n",
       "       [[0.4745098 , 0.5803922 , 0.6392157 , 1.        ],\n",
       "        [0.47058824, 0.58431375, 0.63529414, 1.        ],\n",
       "        [0.4117647 , 0.5019608 , 0.5529412 , 1.        ],\n",
       "        ...,\n",
       "        [0.54901963, 0.6784314 , 0.74509805, 1.        ],\n",
       "        [0.65882355, 0.8117647 , 0.8862745 , 1.        ],\n",
       "        [0.60784316, 0.74509805, 0.8117647 , 1.        ]],\n",
       "\n",
       "       [[0.4745098 , 0.57254905, 0.627451  , 1.        ],\n",
       "        [0.49411765, 0.6       , 0.65882355, 1.        ],\n",
       "        [0.49019608, 0.5921569 , 0.64705884, 1.        ],\n",
       "        ...,\n",
       "        [0.5294118 , 0.63529414, 0.69803923, 1.        ],\n",
       "        [0.5529412 , 0.67058825, 0.7372549 , 1.        ],\n",
       "        [0.6156863 , 0.73333335, 0.8       , 1.        ]]], dtype=float32)"
      ]
     },
     "execution_count": 135,
     "metadata": {},
     "output_type": "execute_result"
    }
   ],
   "source": [
    "car"
   ]
  },
  {
   "cell_type": "markdown",
   "id": "a5590d55-8070-474f-9d7d-9a22ba714c9f",
   "metadata": {},
   "source": [
    "<img src=\"car-photo.png\"/>"
   ]
  },
  {
   "cell_type": "code",
   "execution_count": 137,
   "id": "9b3fd3cf-678c-4a86-8666-3aae6eef0dc2",
   "metadata": {},
   "outputs": [],
   "source": [
    "dog=imread(\"dog-photo.png\")"
   ]
  },
  {
   "cell_type": "code",
   "execution_count": 138,
   "id": "4a2c909a-1cdd-48a0-83f0-26b0bb73a195",
   "metadata": {
    "scrolled": true
   },
   "outputs": [
    {
     "data": {
      "text/plain": [
       "array([[[0.70980394, 0.80784315, 0.88235295, 1.        ],\n",
       "        [0.72156864, 0.8117647 , 0.8862745 , 1.        ],\n",
       "        [0.7411765 , 0.8156863 , 0.8862745 , 1.        ],\n",
       "        ...,\n",
       "        [0.49803922, 0.6862745 , 0.8392157 , 1.        ],\n",
       "        [0.49411765, 0.68235296, 0.8392157 , 1.        ],\n",
       "        [0.49411765, 0.68235296, 0.8352941 , 1.        ]],\n",
       "\n",
       "       [[0.69411767, 0.8039216 , 0.8862745 , 1.        ],\n",
       "        [0.7019608 , 0.8039216 , 0.88235295, 1.        ],\n",
       "        [0.7058824 , 0.80784315, 0.88235295, 1.        ],\n",
       "        ...,\n",
       "        [0.5019608 , 0.6862745 , 0.84705883, 1.        ],\n",
       "        [0.49411765, 0.68235296, 0.84313726, 1.        ],\n",
       "        [0.49411765, 0.68235296, 0.8392157 , 1.        ]],\n",
       "\n",
       "       [[0.6901961 , 0.8       , 0.88235295, 1.        ],\n",
       "        [0.69803923, 0.8039216 , 0.88235295, 1.        ],\n",
       "        [0.7058824 , 0.80784315, 0.88235295, 1.        ],\n",
       "        ...,\n",
       "        [0.5019608 , 0.6862745 , 0.84705883, 1.        ],\n",
       "        [0.49803922, 0.6862745 , 0.84313726, 1.        ],\n",
       "        [0.49803922, 0.6862745 , 0.84313726, 1.        ]],\n",
       "\n",
       "       ...,\n",
       "\n",
       "       [[0.9098039 , 0.81960785, 0.654902  , 1.        ],\n",
       "        [0.8352941 , 0.7490196 , 0.6509804 , 1.        ],\n",
       "        [0.72156864, 0.6313726 , 0.5372549 , 1.        ],\n",
       "        ...,\n",
       "        [0.01568628, 0.07058824, 0.02352941, 1.        ],\n",
       "        [0.03921569, 0.09411765, 0.03529412, 1.        ],\n",
       "        [0.03921569, 0.09019608, 0.05490196, 1.        ]],\n",
       "\n",
       "       [[0.9137255 , 0.83137256, 0.6784314 , 1.        ],\n",
       "        [0.8117647 , 0.7294118 , 0.627451  , 1.        ],\n",
       "        [0.65882355, 0.5686275 , 0.47843137, 1.        ],\n",
       "        ...,\n",
       "        [0.00392157, 0.05490196, 0.03529412, 1.        ],\n",
       "        [0.03137255, 0.09019608, 0.05490196, 1.        ],\n",
       "        [0.04705882, 0.10588235, 0.06666667, 1.        ]],\n",
       "\n",
       "       [[0.9137255 , 0.83137256, 0.68235296, 1.        ],\n",
       "        [0.76862746, 0.68235296, 0.5882353 , 1.        ],\n",
       "        [0.59607846, 0.5058824 , 0.44313726, 1.        ],\n",
       "        ...,\n",
       "        [0.03921569, 0.10196079, 0.07058824, 1.        ],\n",
       "        [0.02745098, 0.08235294, 0.05882353, 1.        ],\n",
       "        [0.05098039, 0.11372549, 0.07058824, 1.        ]]], dtype=float32)"
      ]
     },
     "execution_count": 138,
     "metadata": {},
     "output_type": "execute_result"
    }
   ],
   "source": [
    "dog"
   ]
  },
  {
   "cell_type": "code",
   "execution_count": 141,
   "id": "99efbc5d-37b7-414b-8d94-b880dba983e8",
   "metadata": {},
   "outputs": [
    {
     "data": {
      "text/plain": [
       "(432, 575, 4)"
      ]
     },
     "execution_count": 141,
     "metadata": {},
     "output_type": "execute_result"
    }
   ],
   "source": [
    "dog.shape"
   ]
  },
  {
   "cell_type": "code",
   "execution_count": 143,
   "id": "0b25cd40-4d3c-4882-8bd8-498337352cba",
   "metadata": {},
   "outputs": [
    {
     "data": {
      "text/plain": [
       "array([[[0.70980394]]], dtype=float32)"
      ]
     },
     "execution_count": 143,
     "metadata": {},
     "output_type": "execute_result"
    }
   ],
   "source": [
    "dog[:1,:1,:1]"
   ]
  },
  {
   "cell_type": "code",
   "execution_count": null,
   "id": "04f0acb0-f38b-4002-8a24-99d321c095e3",
   "metadata": {},
   "outputs": [],
   "source": []
  }
 ],
 "metadata": {
  "kernelspec": {
   "display_name": "Python 3 (ipykernel)",
   "language": "python",
   "name": "python3"
  },
  "language_info": {
   "codemirror_mode": {
    "name": "ipython",
    "version": 3
   },
   "file_extension": ".py",
   "mimetype": "text/x-python",
   "name": "python",
   "nbconvert_exporter": "python",
   "pygments_lexer": "ipython3",
   "version": "3.10.13"
  }
 },
 "nbformat": 4,
 "nbformat_minor": 5
}
